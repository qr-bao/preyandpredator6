{
 "cells": [
  {
   "cell_type": "code",
   "execution_count": 1,
   "metadata": {},
   "outputs": [
    {
     "name": "stdout",
     "output_type": "stream",
     "text": [
      "Data\t\t constants.py  plot_creatures.py  simulator_structure.py\n",
      "README.md\t creature.py   predator.py\t  test.ipynb\n",
      "Untitled.ipynb\t food.py       prey.py\t\t  utils.py\n",
      "Untitled1.ipynb  graph.py      rl_game.py\t  video.mp4\n",
      "__pycache__\t plot.py       simulator.py\n"
     ]
    }
   ],
   "source": [
    "! ls"
   ]
  },
  {
   "cell_type": "code",
   "execution_count": 2,
   "metadata": {},
   "outputs": [
    {
     "name": "stdout",
     "output_type": "stream",
     "text": [
      "pygame 2.5.2 (SDL 2.30.2, Python 3.8.19)\n",
      "Hello from the pygame community. https://www.pygame.org/contribute.html\n"
     ]
    },
    {
     "name": "stderr",
     "output_type": "stream",
     "text": [
      "<frozen importlib._bootstrap>:219: RuntimeWarning: Your system is avx2 capable but pygame was not built with support for it. The performance of some of your blits could be adversely affected. Consider enabling compile time detection with environment variables like PYGAME_DETECT_AVX2=1 if you are compiling without cross compilation.\n"
     ]
    }
   ],
   "source": [
    "import random\n",
    "import sys\n",
    "\n",
    "import cv2\n",
    "import matplotlib.pyplot as plt\n",
    "import numpy as np\n",
    "import pandas as pd\n",
    "import pygame\n",
    "from matplotlib.animation import FuncAnimation\n",
    "from pygame.locals import *\n",
    "\n",
    "import constants\n",
    "import food\n",
    "import predator\n",
    "import prey\n",
    "\n",
    "WIDTH  = constants.WIDTH\n",
    "HEIGHT = constants.HEIGHT\n",
    "MAX_FOOD_SUPPLY = constants.MAX_FOOD_SUPPLY\n",
    "INIT_VELOCITY = constants.INIT_VELOCITY\n",
    "FPS = constants.FPS\n",
    "CHANCE_OF_ESCAPE = constants.CHANCE_OF_ESCAPE\n",
    "initialPredatorPopulation = constants.initialPredatorPopulation\n",
    "initialPreyPopulation = constants.initialPreyPopulation\n",
    "\n",
    "PREY_REPRODUCTION_CHANCE = constants.PREY_REPRODUCTION_CHANCE\n",
    "PREDATOR_REPRODUCTION_CHANCE = constants.PREDATOR_REPRODUCTION_CHANCE\n",
    "MUTATION_CHANCE = constants.MUTATION_CHANCE\n",
    "\n",
    "Populations = []\n",
    "lengthofprey  = []\n",
    "lengthofpredator = []\n",
    "lengthoffood = []\n"
   ]
  },
  {
   "cell_type": "code",
   "execution_count": 3,
   "metadata": {},
   "outputs": [],
   "source": [
    "class Environment:\n",
    "    def __init__(self, initialPredatorPopulation, initialPreyPopulation):\n",
    "            # pygame.init()\n",
    "\n",
    "            self.predator = []\n",
    "            self.prey = []\n",
    "            self.food = []\n",
    "            for i in range(initialPredatorPopulation):\n",
    "                p = predator.Predator(\n",
    "                    (\n",
    "                        predator.MAX_HEALTH, \n",
    "                        predator.VIEW_RADIUS,\n",
    "                        predator.MAX_VELOCITY,\n",
    "                        (random.randint(0, WIDTH), random.randint(0, HEIGHT)),\n",
    "                        (random.uniform(-1, 1) * INIT_VELOCITY, random.uniform(-1, 1) * INIT_VELOCITY),\n",
    "                        predator.COLOR,\n",
    "                        predator.SIZE,\n",
    "                    ),\n",
    "                    predator.MAX_DETECTION_OF_PREY  * random.uniform(-1, 1),\n",
    "                    predator.MAX_ATTRACTION_TO_PREY * random.uniform(-1, 1),    \n",
    "                )\n",
    "                self.predator.append(p)\n",
    "\n",
    "            for i in range(initialPreyPopulation):\n",
    "                p = prey.Prey(\n",
    "                    (\n",
    "                        prey.MAX_HEALTH, \n",
    "                        prey.VIEW_RADIUS,\n",
    "                        prey.MAX_VELOCITY,\n",
    "                        (random.randint(0, WIDTH), random.randint(0, HEIGHT)),\n",
    "                        (random.uniform(-1, 1) * INIT_VELOCITY, random.uniform(-1, 1) * INIT_VELOCITY),\n",
    "                        prey.COLOR,\n",
    "                        prey.SIZE,\n",
    "                    ),\n",
    "                    prey.MAX_DETECTION_OF_FOOD       * random.uniform(-1, 1),\n",
    "                    prey.MAX_ATTRACTION_TO_FOOD      * random.uniform(-1, 1),\n",
    "                    prey.MAX_DETECTION_OF_PREDATOR   * random.uniform(-1, 1),\n",
    "                    prey.MAX_REPULSION_FROM_PREDATOR * random.uniform(-1, 1),\n",
    "                )\n",
    "                self.prey.append(p)\n",
    "            for i in range(MAX_FOOD_SUPPLY):\n",
    "                f = food.Food(\n",
    "                    (random.randint(0, WIDTH), random.randint(0, HEIGHT)),\n",
    "                    food.COLOR,\n",
    "                    food.SIZE\n",
    "                )\n",
    "                self.food.append(f)\n",
    "            pygame.display.set_caption('SIMULATOR')\n"
   ]
  },
  {
   "cell_type": "code",
   "execution_count": 16,
   "metadata": {},
   "outputs": [
    {
     "ename": "SyntaxError",
     "evalue": "invalid syntax (4276426226.py, line 20)",
     "output_type": "error",
     "traceback": [
      "\u001b[0;36m  Cell \u001b[0;32mIn[16], line 20\u001b[0;36m\u001b[0m\n\u001b[0;31m    predator.MAX_DETECTION_OF_PREY  * random.uniform(-1, 1),\u001b[0m\n\u001b[0m    ^\u001b[0m\n\u001b[0;31mSyntaxError\u001b[0m\u001b[0;31m:\u001b[0m invalid syntax\n"
     ]
    }
   ],
   "source": [
    "class Environment:\n",
    "    def __init__(self, initialPredatorPopulation, initialPreyPopulation):\n",
    "            # pygame.init()\n",
    "\n",
    "            self.predator = []\n",
    "            self.prey = []\n",
    "            self.food = []\n",
    "            for i in range(initialPredatorPopulation):\n",
    "                p = predator.Predator(\n",
    "                    (\n",
    "                        predator.MAX_HEALTH, \n",
    "                        predator.VIEW_RADIUS,\n",
    "                        predator.MAX_VELOCITY,\n",
    "                        (random.randint(0, WIDTH), random.randint(0, HEIGHT)),\n",
    "                        (random.uniform(-1, 1) * INIT_VELOCITY, random.uniform(-1, 1) * INIT_VELOCITY),\n",
    "                        predator.COLOR,\n",
    "                        predator.SIZE,\n",
    "                    ),\n",
    "                    3 + 'a'\n",
    "                    predator.MAX_DETECTION_OF_PREY  * random.uniform(-1, 1),\n",
    "                    predator.MAX_ATTRACTION_TO_PREY * random.uniform(-1, 1),    \n",
    "                )\n",
    "                self.predator.append(p)"
   ]
  },
  {
   "cell_type": "code",
   "execution_count": 15,
   "metadata": {},
   "outputs": [],
   "source": [
    "env = Environment(initialPredatorPopulation, initialPreyPopulation)"
   ]
  },
  {
   "cell_type": "code",
   "execution_count": 17,
   "metadata": {},
   "outputs": [
    {
     "name": "stdout",
     "output_type": "stream",
     "text": [
      "> \u001b[0;32m/tmp/ipykernel_29289/2358041153.py\u001b[0m(1)\u001b[0;36m<module>\u001b[0;34m()\u001b[0m\n",
      "\u001b[0;32m----> 1 \u001b[0;31m\u001b[0mEnvironment\u001b[0m \u001b[0;34m=\u001b[0m \u001b[0mEnvironment\u001b[0m\u001b[0;34m(\u001b[0m\u001b[0minitialPredatorPopulation\u001b[0m\u001b[0;34m,\u001b[0m \u001b[0minitialPreyPopulation\u001b[0m\u001b[0;34m)\u001b[0m\u001b[0;34m\u001b[0m\u001b[0;34m\u001b[0m\u001b[0m\n",
      "\u001b[0m\n",
      "*** Oldest frame\n",
      "*** Newest frame\n",
      "*** NameError: name 'd' is not defined\n",
      "*** NameError: name 'p' is not defined\n",
      "<module 'predator' from '/home/qrbao/code/test4/test4/PredatorAndPreySimulation/predator.py'>\n"
     ]
    }
   ],
   "source": [
    "%debug"
   ]
  },
  {
   "cell_type": "code",
   "execution_count": null,
   "metadata": {},
   "outputs": [],
   "source": []
  }
 ],
 "metadata": {
  "kernelspec": {
   "display_name": "game2",
   "language": "python",
   "name": "python3"
  },
  "language_info": {
   "codemirror_mode": {
    "name": "ipython",
    "version": 3
   },
   "file_extension": ".py",
   "mimetype": "text/x-python",
   "name": "python",
   "nbconvert_exporter": "python",
   "pygments_lexer": "ipython3",
   "version": "3.8.19"
  }
 },
 "nbformat": 4,
 "nbformat_minor": 2
}
